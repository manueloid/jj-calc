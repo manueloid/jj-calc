{
 "cells": [
  {
   "cell_type": "code",
   "execution_count": 1,
   "id": "914659c4-0f1d-4349-bcfc-db44f3447971",
   "metadata": {},
   "outputs": [
    {
     "ename": "LoadError",
     "evalue": "SystemError: opening file \"/home/manuel/Repos/jj-calc/test/src/ConstantQuantities.jl\": No such file or directory",
     "output_type": "error",
     "traceback": [
      "SystemError: opening file \"/home/manuel/Repos/jj-calc/test/src/ConstantQuantities.jl\": No such file or directory",
      "",
      "Stacktrace:",
      "  [1] systemerror(p::String, errno::Int32; extrainfo::Nothing)",
      "    @ Base ./error.jl:176",
      "  [2] #systemerror#80",
      "    @ ./error.jl:175 [inlined]",
      "  [3] systemerror",
      "    @ ./error.jl:175 [inlined]",
      "  [4] open(fname::String; lock::Bool, read::Nothing, write::Nothing, create::Nothing, truncate::Nothing, append::Nothing)",
      "    @ Base ./iostream.jl:293",
      "  [5] open",
      "    @ ./iostream.jl:275 [inlined]",
      "  [6] open(f::Base.var\"#387#388\"{String}, args::String; kwargs::Base.Pairs{Symbol, Union{}, Tuple{}, NamedTuple{(), Tuple{}}})",
      "    @ Base ./io.jl:382",
      "  [7] open",
      "    @ ./io.jl:381 [inlined]",
      "  [8] read",
      "    @ ./io.jl:462 [inlined]",
      "  [9] _include(mapexpr::Function, mod::Module, _path::String)",
      "    @ Base ./loading.jl:1484",
      " [10] include(fname::String)",
      "    @ Base.MainInclude ./client.jl:476",
      " [11] top-level scope",
      "    @ In[1]:1"
     ]
    }
   ],
   "source": [
    "include(\"./src/ConstantQuantities.jl\")\n",
    "include(\"./src/PlotObj.jl\")\n",
    "cp = ControlParameterFull(0.1, 50) # I will use 10 particles to start with\n",
    "final_times = range(0.05, 0.8, length=100) |> collect\n",
    "# Plotting with PGFPlotsX\n",
    "using PGFPlotsX\n",
    "# Shared options for all plots\n",
    "plot_folder = \"./gfx/\""
   ]
  },
  {
   "cell_type": "code",
   "execution_count": null,
   "id": "b2757f99-b69f-4692-8824-8ab095e2555d",
   "metadata": {},
   "outputs": [],
   "source": []
  }
 ],
 "metadata": {
  "kernelspec": {
   "display_name": "Julia 1.8.3",
   "language": "julia",
   "name": "julia-1.8"
  },
  "language_info": {
   "file_extension": ".jl",
   "mimetype": "application/julia",
   "name": "julia",
   "version": "1.8.3"
  }
 },
 "nbformat": 4,
 "nbformat_minor": 5
}
