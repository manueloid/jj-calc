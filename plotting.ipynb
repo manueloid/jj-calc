{
 "cells": [
  {
   "cell_type": "code",
   "execution_count": 2,
   "metadata": {},
   "outputs": [
    {
     "data": {
      "text/plain": [
       "alpha"
      ]
     },
     "metadata": {},
     "output_type": "display_data"
    }
   ],
   "source": [
    "include(\"./src/ConstantQuantities.jl\")"
   ]
  },
  {
   "attachments": {},
   "cell_type": "markdown",
   "metadata": {},
   "source": [
    "I don't need to load all the data as I am only interested in some features.\n",
    "In particular, I will split the code into two big chunks:\n",
    "- Feature behaviour with respect to final time: this means I will evaluate and then plot the relevant feature for different final times.\n",
    "- Feature behaviour as an evolution with respect of time.\n",
    "\n",
    "Let's start from the initial approach"
   ]
  },
  {
   "attachments": {},
   "cell_type": "markdown",
   "metadata": {},
   "source": [
    "### Fidelity \n",
    "\n",
    "As we agreed, we are going to calculate the fidelity for different eSTA schemes and for different number of $\\lambda$ corrections.\n",
    "Moreover, we need to repeat the process for 10 and 30 particles"
   ]
  },
  {
   "attachments": {},
   "cell_type": "markdown",
   "metadata": {},
   "source": [
    "The final times will run from `0.01π` to `0.2π`, and I will use `1000` points"
   ]
  },
  {
   "cell_type": "code",
   "execution_count": 3,
   "metadata": {},
   "outputs": [],
   "source": [
    "ft = range(0.01pi, 0.2pi, length=100) # Array storing the final times\n",
    "cpf10 = ControlParameterFull(.1, 10) # Control parameter for the discrete Hamiltonian and 10 particles \n",
    "cpf30 = ControlParameterFull(.1, 30) # Control parameter for the discrete Hamiltonian and 30 particles\n",
    "cpi10 = ControlParameterInt(.1, 10) # Control parameter for the continous Hamiltonian and 10 particles\n",
    "cpi30 = ControlParameterInt(.1, 30) # Control parameter for the continous Hamiltonian and 30 particles\n",
    "\n",
    "qts10 = ConstantQuantities(cpf10); # Operators and initial and final ground state for 10 particles\n",
    "qts30 = ConstantQuantities(cpf30); # Operators and initial and final ground state for 30 particles\n"
   ]
  },
  {
   "attachments": {},
   "cell_type": "markdown",
   "metadata": {},
   "source": [
    "Now I will evaluate the fidelities. \n",
    "Since the operators and initial and final state of the system are only defined by the number of particles, I will embed everything in one function."
   ]
  },
  {
   "attachments": {},
   "cell_type": "markdown",
   "metadata": {},
   "source": [
    "### Fidelity for the discrete Hamiltonian "
   ]
  },
  {
   "cell_type": "code",
   "execution_count": 4,
   "metadata": {},
   "outputs": [],
   "source": [
    "fidelity_esta10 = zeros(length(ft))\n",
    "fidelity_sta10 = zeros(length(ft))\n",
    "sensitivitytn_sta10 = zeros(length(ft))\n",
    "sensitivitytn_esta10 = zeros(length(ft))\n",
    "sensitivitymn_esta10 = zeros(length(ft))\n",
    "sensitivitymn_sta10 = zeros(length(ft))\n",
    "fidelity_ad10 = zeros(length(ft))\n",
    "for (index, tf) in enumerate(ft) \n",
    "    cparam = cp_time(cpf10, tf)\n",
    "    corrs = corrections(cparam)\n",
    "    esta(t) = Λ_esta(t, cparam, corrs)\n",
    "    sta(t) = Λ_sta(t, cparam)\n",
    "    ad(t) = Λ_ad(t, cparam)\n",
    "    fidelity_esta10[index] = fidelity(cparam, qts10, esta)[end]\n",
    "    fidelity_sta10[index] = fidelity(cparam, qts10, sta)[end]\n",
    "    fidelity_ad10[index] = fidelity(cparam, qts10, ad)[end]\n",
    "end"
   ]
  },
  {
   "attachments": {},
   "cell_type": "markdown",
   "metadata": {},
   "source": [
    "### Fidelity for the discrete Hamiltonian and 30 particles of the eSTA protocol"
   ]
  },
  {
   "cell_type": "code",
   "execution_count": 5,
   "metadata": {},
   "outputs": [],
   "source": [
    "using PGFPlotsX\n",
    "@pgf Plot(Table(ft, fidelity_esta10))"
   ]
  },
  {
   "cell_type": "code",
   "execution_count": null,
   "metadata": {},
   "outputs": [],
   "source": []
  }
 ],
 "metadata": {
  "kernelspec": {
   "display_name": "Julia 1.8.5",
   "language": "julia",
   "name": "julia-1.8"
  },
  "language_info": {
   "file_extension": ".jl",
   "mimetype": "application/julia",
   "name": "julia",
   "version": "1.8.5"
  },
  "orig_nbformat": 4
 },
 "nbformat": 4,
 "nbformat_minor": 2
}
