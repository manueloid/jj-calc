{
 "cells": [
  {
   "cell_type": "markdown",
   "id": "51a9460c",
   "metadata": {},
   "source": [
    "## Plotting "
   ]
  },
  {
   "cell_type": "code",
   "execution_count": 1,
   "id": "d7f5293f",
   "metadata": {},
   "outputs": [
    {
     "data": {
      "text/plain": [
       "squeezings"
      ]
     },
     "execution_count": 1,
     "metadata": {},
     "output_type": "execute_result"
    }
   ],
   "source": [
    "include(\"./src/ConstantQuantities.jl\")"
   ]
  },
  {
   "cell_type": "markdown",
   "id": "4109d3b6",
   "metadata": {},
   "source": [
    "### Different $\\epsilon$\n",
    "Here I will plot the different "
   ]
  },
  {
   "cell_type": "raw",
   "id": "4b45c9dd-0d8e-46ba-8fc1-4253dc50a8b2",
   "metadata": {},
   "source": []
  }
 ],
 "metadata": {
  "kernelspec": {
   "display_name": "Julia 1.8.3",
   "language": "julia",
   "name": "julia-1.8"
  },
  "language_info": {
   "file_extension": ".jl",
   "mimetype": "application/julia",
   "name": "julia",
   "version": "1.8.3"
  }
 },
 "nbformat": 4,
 "nbformat_minor": 5
}
